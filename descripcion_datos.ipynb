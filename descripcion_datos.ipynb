{
 "cells": [
  {
   "attachments": {},
   "cell_type": "markdown",
   "metadata": {},
   "source": [
    "# Tecnológico de Costa Rica\n",
    "\n",
    "## Curso EL 4702\n",
    "\n",
    "## Proyecto 1 - Estadística Descriptiva"
   ]
  },
  {
   "attachments": {},
   "cell_type": "markdown",
   "metadata": {},
   "source": [
    "## Medidas de tendencia y dispersión\n",
    "\n",
    "A continuación se presentan las funciones desarrolladas para calcular las medidas de tendencia y dispersión, además de los resultados de aplicar dichas funciones a los datos de humedad RH_2."
   ]
  },
  {
   "attachments": {},
   "cell_type": "markdown",
   "metadata": {},
   "source": [
    "**Extracción y ordenamiento de los datos con Quicksort**"
   ]
  },
  {
   "cell_type": "code",
   "execution_count": 9,
   "metadata": {},
   "outputs": [],
   "source": [
    "import numpy as np\n",
    "\n",
    "import matplotlib.pyplot as plt\n",
    "\n",
    "# Extraccion de datos del del archivo energydata_complete.csv\n",
    "\n",
    "filename = 'energydata_complete.csv' # Nombre/ruta del archivo\n",
    "\n",
    "# Esta funcion lee el archivo csv y guarda los datos en un array\n",
    "# parametros: fname: nombre/ruta del archivo, delimiter: delimitador de las columnas, skip_header: ignora la primera linea, \n",
    "# dtype: especifica el tipo de datos (None para deteccion automatica), encoding: decodificacion (None para descartarla)\n",
    "# usecols: selecciona las columnas a leer\n",
    "datos = np.genfromtxt(filename, delimiter = ';', skip_header = 1, dtype = None, encoding = None, usecols = [0, 6])\n",
    "\n",
    "# Se extraen los datos de humedad en un array aparte\n",
    "humedad = np.array([elem[1] for elem in datos])\n",
    "\n",
    "# Se ordenan los datos usando la funcion sort de numpy, utilizando el algoritmo quicksort\n",
    "humedad.sort(kind = 'quicksort')"
   ]
  },
  {
   "attachments": {},
   "cell_type": "markdown",
   "metadata": {},
   "source": [
    "**Funciones de las medidas de tendencia**"
   ]
  },
  {
   "cell_type": "code",
   "execution_count": 10,
   "metadata": {},
   "outputs": [],
   "source": [
    "# Funcion que calcula el promedio de un array\n",
    "def promedio(lista):\n",
    "    total = 0\n",
    "    for n in range(len(lista)):\n",
    "        total += lista[n]\n",
    "    return total/(n + 1)\n",
    "\n",
    "# Funcion que calcula la moda de un array\n",
    "def moda(lista):\n",
    "    # Se organiza el array en un diccionario y se cuenta el numero de repeticiones de cada valor\n",
    "    valores = dict()\n",
    "    for valor in lista:\n",
    "        if valor in valores.keys():\n",
    "            valores[valor] += 1\n",
    "        else:\n",
    "            valores[valor] = 1\n",
    "    # Se buscan los valores maximos del diccionario, cuyas llaves seran la moda\n",
    "    maximo = 1\n",
    "    moda = []\n",
    "    for key in valores:\n",
    "        if valores[key] == maximo:\n",
    "            moda.append([key, valores[key]])\n",
    "        elif valores[key] > maximo:\n",
    "            moda = [[key, valores[key]]]\n",
    "            maximo = valores[key]\n",
    "    return moda\n",
    "\n",
    "# Funcion que calcula la mediana de un array\n",
    "def mediana(lista):\n",
    "    n = len(lista)\n",
    "    if n % 2 == 0: \n",
    "        return (lista[int(n / 2) - 1] + lista[int((n / 2))]) / 2 # n par\n",
    "    return lista[int((n + 1) / 2) - 1] # n impar\n",
    "\n",
    "# Funcion que calcula los cuartiles de un array\n",
    "def cuartiles(lista):\n",
    "    n = len(lista)\n",
    "    if n % 4 == 0:\n",
    "        return [lista[int(n / 4) - 1], mediana(lista), lista[int(n * 3 / 4) - 1]] # n divisible por 4\n",
    "    return [lista[int(n / 4)], mediana(lista), lista[int(n * 3 / 4)]] # n no divisible por 4"
   ]
  },
  {
   "attachments": {},
   "cell_type": "markdown",
   "metadata": {},
   "source": [
    "**Funciones de las medidas de dispersión**"
   ]
  },
  {
   "cell_type": "code",
   "execution_count": 11,
   "metadata": {},
   "outputs": [],
   "source": [
    "# Funcion que calcula la varianza de un array\n",
    "def varianza(lista):\n",
    "    prom = promedio(lista)\n",
    "    varianza = 0\n",
    "    for n in range(len(lista)):\n",
    "        varianza += (lista[n] - prom) ** 2\n",
    "    return varianza / n\n",
    "\n",
    "# Funcion que calcula la desviasion estandar de un array\n",
    "def desviacion_estandar(lista):\n",
    "    return varianza(lista) ** (1/2)\n",
    "\n",
    "# Funcion que calcula el coeficiente de variacion un array\n",
    "def coeficiente_de_variacion(lista):\n",
    "    return desviacion_estandar(lista) * 100 / promedio(lista)\n",
    "\n",
    "# Funcion que calcula el rango muestral de un array\n",
    "def rango_muestral(lista):\n",
    "    return max(lista) - min(lista)\n",
    "\n",
    "# Funcion que calcula el rango intercuartil de un array\n",
    "def RIC(lista):\n",
    "    cuart = cuartiles(lista)\n",
    "    return cuart[2] - cuart[0]"
   ]
  },
  {
   "attachments": {},
   "cell_type": "markdown",
   "metadata": {},
   "source": [
    "**Resultados**"
   ]
  },
  {
   "cell_type": "code",
   "execution_count": 12,
   "metadata": {},
   "outputs": [
    {
     "name": "stdout",
     "output_type": "stream",
     "text": [
      "Promedio:  40.42042041370657\n",
      "Moda, # de repeticiones:  [[40.0, 135]]\n",
      "Mediana:  40.5\n",
      "Cuartiles [Q1, Q2, Q3]:  [37.9, 40.5, 43.26]\n",
      "Varianza:  16.56337411440203\n",
      "Desviacion estandar:  4.069812540449748\n",
      "Coeficiente de variacion:  10.068704132205596\n",
      "Rango muestral:  35.563333333333404\n",
      "Rango intercuartilico:  5.359999999999999\n"
     ]
    }
   ],
   "source": [
    "_promedio = promedio(humedad)\n",
    "_moda = moda(humedad)\n",
    "_mediana = mediana(humedad)\n",
    "_cuartiles = cuartiles(humedad)\n",
    "_varianza = varianza(humedad)\n",
    "_desviacion_estandar = desviacion_estandar(humedad)\n",
    "_coeficiente_de_variacion = coeficiente_de_variacion(humedad)\n",
    "_rango_muestral = rango_muestral(humedad)\n",
    "_RIC = RIC(humedad)\n",
    "\n",
    "print(\"Promedio: \", _promedio)\n",
    "print(\"Moda, # de repeticiones: \", _moda)\n",
    "print(\"Mediana: \", _mediana)\n",
    "print(\"Cuartiles [Q1, Q2, Q3]: \", _cuartiles)\n",
    "\n",
    "print(\"Varianza: \", _varianza)\n",
    "print(\"Desviacion estandar: \", _desviacion_estandar)\n",
    "print(\"Coeficiente de variacion: \", _coeficiente_de_variacion)\n",
    "print(\"Rango muestral: \", _rango_muestral)\n",
    "print(\"Rango intercuartilico: \", _RIC)"
   ]
  },
  {
   "attachments": {},
   "cell_type": "markdown",
   "metadata": {},
   "source": [
    "## Presentación de los datos\n",
    "\n",
    "A continuación se presentan los datos mediante gráfico lineal, diagrama de cajas e histograma."
   ]
  },
  {
   "attachments": {},
   "cell_type": "markdown",
   "metadata": {},
   "source": [
    "**Diagrama de cajas**"
   ]
  },
  {
   "cell_type": "code",
   "execution_count": 13,
   "metadata": {},
   "outputs": [
    {
     "data": {
      "image/png": "[encoded data removed]",
      "text/plain": [
       "<Figure size 640x480 with 1 Axes>"
      ]
     },
     "metadata": {},
     "output_type": "display_data"
    }
   ],
   "source": [
    "# Generar el boxplot\n",
    "fig, ax = plt.subplots()\n",
    "ax.boxplot(humedad)\n",
    "\n",
    "# Configurar las etiquetas de los ejes y el título del boxplot\n",
    "ax.set_xlabel('Humedad')\n",
    "ax.set_ylabel('Valores')\n",
    "ax.set_title('Boxplot de Humedad')\n",
    "\n",
    "# Mostrar el boxplot\n",
    "plt.show()"
   ]
  },
  {
   "attachments": {},
   "cell_type": "markdown",
   "metadata": {},
   "source": [
    "**Histograma**"
   ]
  },
  {
   "cell_type": "code",
   "execution_count": 14,
   "metadata": {},
   "outputs": [
    {
     "data": {
      "image/png": "[encoded data removed]",
      "text/plain": [
       "<Figure size 640x480 with 1 Axes>"
      ]
     },
     "metadata": {},
     "output_type": "display_data"
    }
   ],
   "source": [
    "# Crear un histograma de los datos de humedad\n",
    "plt.hist(humedad, bins=20)\n",
    "\n",
    "# Configurar las etiquetas de los ejes y el título del histograma\n",
    "plt.xlabel('Humedad')\n",
    "plt.ylabel('Frecuencia')\n",
    "plt.title('Histograma de Humedad')\n",
    "\n",
    "# Mostrar el histograma\n",
    "plt.show()"
   ]
  }
 ],
 "metadata": {
  "kernelspec": {
   "display_name": "base",
   "language": "python",
   "name": "python3"
  },
  "language_info": {
   "codemirror_mode": {
    "name": "ipython",
    "version": 3
   },
   "file_extension": ".py",
   "mimetype": "text/x-python",
   "name": "python",
   "nbconvert_exporter": "python",
   "pygments_lexer": "ipython3",
   "version": "3.9.16"
  },
  "orig_nbformat": 4,
  "vscode": {
   "interpreter": {
    "hash": "19d1d53a962d236aa061289c2ac16dc8e6d9648c89fe79f459ae9a3493bc67b4"
   }
  }
 },
 "nbformat": 4,
 "nbformat_minor": 2
}
